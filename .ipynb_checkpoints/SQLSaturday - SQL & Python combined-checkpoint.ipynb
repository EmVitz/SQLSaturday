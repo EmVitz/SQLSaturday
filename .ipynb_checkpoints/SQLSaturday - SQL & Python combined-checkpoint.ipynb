{
 "cells": [
  {
   "cell_type": "code",
   "execution_count": 25,
   "metadata": {},
   "outputs": [],
   "source": [
    "## Import general libraries\n",
    "import pandas as pd\n",
    "import math\n",
    "import numpy as np\n",
    "\n",
    "## Import SQL libraries\n",
    "import sqlite3\n",
    "from sqlalchemy import create_engine\n",
    "\n",
    "## Import Plotly libraries\n",
    "import plotly\n",
    "import plotly.plotly as py\n",
    "import plotly.graph_objs as go\n",
    "## from pandas.api.types import CategoricalDtype\n",
    "from plotly.graph_objs import *\n",
    "import plotly.tools as tls\n",
    "import plotly.plotly as py\n",
    "import cufflinks as cf\n",
    "from plotly.grid_objs import Grid, Column\n",
    "import time"
   ]
  },
  {
   "cell_type": "code",
   "execution_count": 1018,
   "metadata": {},
   "outputs": [],
   "source": [
    "engine = create_engine('sqlite:///SQLSaturday.db')\n",
    "connection = engine.connect()"
   ]
  },
  {
   "cell_type": "code",
   "execution_count": 1019,
   "metadata": {},
   "outputs": [
    {
     "name": "stdout",
     "output_type": "stream",
     "text": [
      "['Earnings_by_Demographic_Clean', 'Housing_costs', 'Income_Housing_costs', 'KS_withdrawals', 'Kiwisaver_by_Gender_tidy', 'Kiwisaver_by_age_tidy', 'Kiwisaver_by_income_tidy', 'Kiwisaver_by_region_tidy', 'Median_House_Price', 'Population_by_Region', 'Sector_of_Landlord', 'Tenure_Age_Region', 'Tenure_Holder_Income_Region', 'Tenure_Holder_by_Demographic', 'Total_Pop_by_Age_Gender']\n"
     ]
    }
   ],
   "source": [
    "print(engine.table_names())"
   ]
  },
  {
   "cell_type": "code",
   "execution_count": 1020,
   "metadata": {},
   "outputs": [],
   "source": [
    "## KIWISAVER BY AGE \n",
    "## Getting Number of People in Kiwisaver and Total Number of People by Age Group\n",
    "stmt_age = ('SELECT a.*, \\\n",
    "                     b.No_People_in_Kiwisaver \\\n",
    "             FROM (SELECT Year, Age, SUM(No_People) \\\n",
    "             FROM (SELECT Year, CASE WHEN Age IN (\\'0-14 years\\', \\'15-19 years\\', \\'20-24 years\\') THEN \\'0 - 24\\' \\\n",
    "                  WHEN Age IN (\\'25-29 years\\', \\'30-34 years\\') THEN \\'25 - 34\\' \\\n",
    "                  WHEN Age IN (\\'35-39 years\\', \\'40-44 years\\') THEN \\'35 - 44\\' \\\n",
    "                  WHEN Age IN (\\'45-49 years\\', \\'50-54 years\\') THEN \\'45 - 54\\' \\\n",
    "                  WHEN Age IN (\\'55-59 years\\', \\'60-64 years\\', \\'65 years and over\\') THEN \\'55+\\' \\\n",
    "                  ELSE NULL \\\n",
    "                  END as \\'Age\\', \\\n",
    "                  No_People \\\n",
    "             FROM Total_Pop_by_Age_Gender \\\n",
    "             WHERE Sex = \\'Total people\\' \\\n",
    "             AND Age != \\'Total people, all ages\\') \\\n",
    "             GROUP BY Year, Age) a \\\n",
    "             LEFT JOIN (SELECT Date, CASE WHEN AgeBand IN (\\'0 - 17\\', \\'18 - 24\\') THEN \\'0 - 24\\' \\\n",
    "                                     ELSE AgeBand END as \\'Age\\', \\\n",
    "                                     SUM(No_People_in_Kiwisaver) as \\'No_People_in_Kiwisaver\\' \\\n",
    "                        FROM Kiwisaver_by_age_tidy \\\n",
    "                        WHERE AgeBand != \\'No Information\\' AND AgeBand != \\'Total\\' \\\n",
    "                        GROUP BY Date, Age) b \\\n",
    "             ON a.Year = b.Date \\\n",
    "             AND a.Age = b.Age')\n",
    "                        \n",
    "             \n",
    "results_age = connection.execute(stmt_age).fetchall()"
   ]
  },
  {
   "cell_type": "code",
   "execution_count": 1021,
   "metadata": {},
   "outputs": [
    {
     "name": "stdout",
     "output_type": "stream",
     "text": [
      "    Year      Age  No_People  No_in_KS\n",
      "0   2008   0 - 24    1501270  204655.0\n",
      "1   2008  25 - 34     540470  110191.0\n",
      "2   2008  35 - 44     629260  122818.0\n",
      "3   2008  45 - 54     597280  127917.0\n",
      "4   2008      55+     991410  134858.0\n",
      "5   2009   0 - 24    1510470  356182.0\n",
      "6   2009  25 - 34     541130  173229.0\n",
      "7   2009  35 - 44     624220  182719.0\n",
      "8   2009  45 - 54     608260  186158.0\n",
      "9   2009      55+    1018440  198053.0\n",
      "10  2010   0 - 24    1524990  494939.0\n",
      "11  2010  25 - 34     542790  235462.0\n",
      "12  2010  35 - 44     619280  235311.0\n",
      "13  2010  45 - 54     616220  235336.0\n",
      "14  2010      55+    1047370  250422.0\n"
     ]
    }
   ],
   "source": [
    "## Turn results into dataframe and rename columns\n",
    "age_df = pd.DataFrame(results_age)\n",
    "age_df.columns = ['Year', 'Age', 'No_People', 'No_in_KS']\n",
    "print(age_df.head(n=15))"
   ]
  },
  {
   "cell_type": "code",
   "execution_count": 1022,
   "metadata": {},
   "outputs": [],
   "source": [
    "## Calculating the percentage of people in Kiwisaver by age group\n",
    "prct_KS = []\n",
    "for i in range(0, len(age_df)):\n",
    "    prct_KS.append(age_df.No_in_KS[i] / age_df.No_People[i])"
   ]
  },
  {
   "cell_type": "code",
   "execution_count": 1025,
   "metadata": {},
   "outputs": [],
   "source": [
    "ages_prct = pd.concat([age_df, pd.Series(prct_KS)], axis=1)\n",
    "ages_prct.columns = ['Year', 'Age', 'No_People', 'No_in_KS', 'Prct_KS']"
   ]
  },
  {
   "cell_type": "code",
   "execution_count": 1026,
   "metadata": {},
   "outputs": [
    {
     "data": {
      "text/html": [
       "<div>\n",
       "<style>\n",
       "    .dataframe thead tr:only-child th {\n",
       "        text-align: right;\n",
       "    }\n",
       "\n",
       "    .dataframe thead th {\n",
       "        text-align: left;\n",
       "    }\n",
       "\n",
       "    .dataframe tbody tr th {\n",
       "        vertical-align: top;\n",
       "    }\n",
       "</style>\n",
       "<table border=\"1\" class=\"dataframe\">\n",
       "  <thead>\n",
       "    <tr style=\"text-align: right;\">\n",
       "      <th></th>\n",
       "      <th>Year</th>\n",
       "      <th>Age</th>\n",
       "      <th>No_People</th>\n",
       "      <th>No_in_KS</th>\n",
       "      <th>Prct_KS</th>\n",
       "    </tr>\n",
       "  </thead>\n",
       "  <tbody>\n",
       "    <tr>\n",
       "      <th>0</th>\n",
       "      <td>2008</td>\n",
       "      <td>0 - 24</td>\n",
       "      <td>1501270</td>\n",
       "      <td>204655.0</td>\n",
       "      <td>0.136321</td>\n",
       "    </tr>\n",
       "    <tr>\n",
       "      <th>1</th>\n",
       "      <td>2008</td>\n",
       "      <td>25 - 34</td>\n",
       "      <td>540470</td>\n",
       "      <td>110191.0</td>\n",
       "      <td>0.203880</td>\n",
       "    </tr>\n",
       "    <tr>\n",
       "      <th>2</th>\n",
       "      <td>2008</td>\n",
       "      <td>35 - 44</td>\n",
       "      <td>629260</td>\n",
       "      <td>122818.0</td>\n",
       "      <td>0.195178</td>\n",
       "    </tr>\n",
       "    <tr>\n",
       "      <th>3</th>\n",
       "      <td>2008</td>\n",
       "      <td>45 - 54</td>\n",
       "      <td>597280</td>\n",
       "      <td>127917.0</td>\n",
       "      <td>0.214166</td>\n",
       "    </tr>\n",
       "    <tr>\n",
       "      <th>4</th>\n",
       "      <td>2008</td>\n",
       "      <td>55+</td>\n",
       "      <td>991410</td>\n",
       "      <td>134858.0</td>\n",
       "      <td>0.136026</td>\n",
       "    </tr>\n",
       "  </tbody>\n",
       "</table>\n",
       "</div>"
      ],
      "text/plain": [
       "   Year      Age  No_People  No_in_KS   Prct_KS\n",
       "0  2008   0 - 24    1501270  204655.0  0.136321\n",
       "1  2008  25 - 34     540470  110191.0  0.203880\n",
       "2  2008  35 - 44     629260  122818.0  0.195178\n",
       "3  2008  45 - 54     597280  127917.0  0.214166\n",
       "4  2008      55+     991410  134858.0  0.136026"
      ]
     },
     "execution_count": 1026,
     "metadata": {},
     "output_type": "execute_result"
    }
   ],
   "source": [
    "ages_prct.head()"
   ]
  },
  {
   "cell_type": "code",
   "execution_count": 1052,
   "metadata": {},
   "outputs": [
    {
     "name": "stdout",
     "output_type": "stream",
     "text": [
      "['2008', '2009', '2010', '2011', '2012', '2013', '2014', '2015', '2016', '2017']\n",
      "['0 - 24', '25 - 34', '35 - 44', '45 - 54', '55+']\n"
     ]
    }
   ],
   "source": [
    "## Kiwisaver by age - make the grid\n",
    "\n",
    "years_from_col_age = set(ages_prct['Year'])\n",
    "years_ints_age = sorted(list(years_from_col_age))\n",
    "years_age = [str(year) for year in years_ints_age]\n",
    "print(years_age)\n",
    "\n",
    "# Make list of ages\n",
    "ages = []\n",
    "for age in ages_prct['Age']:\n",
    "    if age not in ages: \n",
    "        ages.append(age)\n",
    "print(ages)"
   ]
  },
  {
   "cell_type": "code",
   "execution_count": 1056,
   "metadata": {},
   "outputs": [
    {
     "data": {
      "text/plain": [
       "'https://plot.ly/~EmmaVitz/156/'"
      ]
     },
     "execution_count": 1056,
     "metadata": {},
     "output_type": "execute_result"
    }
   ],
   "source": [
    "columns_age = []\n",
    "# Make grid\n",
    "for year in years_age:\n",
    "    for age in ages:\n",
    "        age_dataset_by_year = ages_prct[ages_prct['Year'] == year]\n",
    "        dataset_by_year_and_age = age_dataset_by_year[age_dataset_by_year['Age'] == age]\n",
    "        for col_name in dataset_by_year_and_age:\n",
    "            # each column name is unique\n",
    "            column_name = '{year}_{age}_{header}_KS_grid'.format(\n",
    "                year=year, age=age, header=col_name\n",
    "            )\n",
    "            a_column = Column(list(dataset_by_year_and_age[col_name]), column_name)\n",
    "            columns_age.append(a_column)\n",
    "\n",
    "# Upload grid\n",
    "grid_age = Grid(columns_age)\n",
    "url = py.grid_ops.upload(grid_age, 'KS_grid'+str(time.time()), auto_open=False)\n",
    "url"
   ]
  },
  {
   "cell_type": "code",
   "execution_count": null,
   "metadata": {},
   "outputs": [],
   "source": []
  },
  {
   "cell_type": "code",
   "execution_count": 1057,
   "metadata": {},
   "outputs": [],
   "source": [
    "## Make the figure\n",
    "figure_age = {\n",
    "    'data': [],\n",
    "    'layout': {},\n",
    "    'frames': [],\n",
    "    'config': {'scrollzoom': True}\n",
    "}\n",
    "\n",
    "# fill in most of layout\n",
    "figure_age['layout']['xaxis'] = {'range': [0, 1], 'title': 'Proportion of People in Kiwisaver', 'gridcolor': '#FFFFFF'}\n",
    "figure_age['layout']['yaxis'] = {'title': 'Age Group', 'gridcolor': '#FFFFFF'}\n",
    "figure_age['layout']['title'] = 'Kiwisaver Participation by Age Group, 2008 - 2017'\n",
    "figure_age['layout']['hovermode'] = 'closest'\n",
    "figure_age['layout']['plot_bgcolor'] = 'rgb(223, 232, 243)'"
   ]
  },
  {
   "cell_type": "code",
   "execution_count": 1058,
   "metadata": {},
   "outputs": [],
   "source": [
    "## Add slider\n",
    "sliders_dict_age = {\n",
    "    'active': 0,\n",
    "    'yanchor': 'top',\n",
    "    'xanchor': 'left',\n",
    "    'currentvalue': {\n",
    "        'font': {'size': 20},\n",
    "        'prefix': 'Year:',\n",
    "        'visible': True,\n",
    "        'xanchor': 'right'\n",
    "    },\n",
    "    'transition': {'duration': 300, 'easing': 'cubic-in-out'},\n",
    "    'pad': {'b': 10, 't': 50},\n",
    "    'len': 0.9,\n",
    "    'x': 0.1,\n",
    "    'y': 0,\n",
    "    'steps': []\n",
    "}\n",
    "\n"
   ]
  },
  {
   "cell_type": "code",
   "execution_count": 1059,
   "metadata": {},
   "outputs": [],
   "source": [
    "## Add play and pause buttons\n",
    "figure_age['layout']['updatemenus'] = [\n",
    "    {\n",
    "        'buttons': [\n",
    "            {\n",
    "                'args': [None, {'frame': {'duration': 500, 'redraw': False},\n",
    "                         'fromcurrent': True, 'transition': {'duration': 300, 'easing': 'quadratic-in-out'}}],\n",
    "                'label': 'Play',\n",
    "                'method': 'animate'\n",
    "            },\n",
    "            {\n",
    "                'args': [[None], {'frame': {'duration': 0, 'redraw': False}, 'mode': 'immediate',\n",
    "                'transition': {'duration': 0}}],\n",
    "                'label': 'Pause',\n",
    "                'method': 'animate'\n",
    "            }\n",
    "        ],\n",
    "        'direction': 'left',\n",
    "        'pad': {'r': 10, 't': 87},\n",
    "        'showactive': False,\n",
    "        'type': 'buttons',\n",
    "        'x': 0.1,\n",
    "        'xanchor': 'right',\n",
    "        'y': 0,\n",
    "        'yanchor': 'top'\n",
    "    }\n",
    "]\n",
    "\n",
    "custom_colors_age = {\n",
    "    '0 - 24': 'rgb(171, 99, 250)',\n",
    "    '25 - 34': 'rgb(230, 99, 250)',\n",
    "    '35 - 44': 'rgb(99, 110, 250)',\n",
    "    '45 - 54': 'rgb(25, 211, 243)',\n",
    "    '55+': 'rgb(50, 170, 255)'\n",
    "}\n"
   ]
  },
  {
   "cell_type": "code",
   "execution_count": 1060,
   "metadata": {},
   "outputs": [],
   "source": [
    "## Fill in figure with data and frames\n",
    "col_name_template_age = '{year}_{age}_{header}_KS_grid'\n",
    "for age in ages:\n",
    "    data_dict_age = {\n",
    "        'xsrc': grid_age.get_column_reference(col_name_template_age.format(\n",
    "            year=year, age=age, header='Prct_KS'\n",
    "        )),\n",
    "        'ysrc': grid_age.get_column_reference(col_name_template_age.format(\n",
    "            year=year, age=age, header='Age'\n",
    "        )),\n",
    "        'mode': 'markers',\n",
    "        'textsrc': grid_age.get_column_reference(col_name_template_age.format(\n",
    "            year=year, age=age, header='Age'\n",
    "        )),\n",
    "        'marker': {\n",
    "            'sizemode': 'area',\n",
    "            'sizeref': 1500,\n",
    "            'sizesrc': grid_age.get_column_reference(col_name_template_age.format(\n",
    "                year=year, age=age, header='No_People'\n",
    "            )),\n",
    "            'color': custom_colors[age]\n",
    "        },\n",
    "        'name': age\n",
    "}\n",
    "    figure_age['data'].append(data_dict_age)"
   ]
  },
  {
   "cell_type": "code",
   "execution_count": 1061,
   "metadata": {},
   "outputs": [],
   "source": [
    "## Plot\n",
    "for year in years_age:\n",
    "    frame_age = {'data': [], 'name': str(year)}\n",
    "    for age in ages:\n",
    "        data_dict_age = {\n",
    "            'xsrc': grid_age.get_column_reference(col_name_template_age.format(\n",
    "                year=year, age=age, header='Prct_KS'\n",
    "            )),\n",
    "            'ysrc': grid_age.get_column_reference(col_name_template_age.format(\n",
    "                year=year, age=age, header='Age'\n",
    "            )),\n",
    "            'mode': 'markers',\n",
    "            'textsrc': grid_age.get_column_reference(col_name_template_age.format(\n",
    "                year=year, age=age, header='Age'\n",
    "                )),\n",
    "            'marker': {\n",
    "                'sizemode': 'area',\n",
    "                'sizeref': 1500,\n",
    "                'sizesrc': grid_age.get_column_reference(col_name_template_age.format(\n",
    "                    year=year, age=age, header='No_People'\n",
    "                )),\n",
    "                'color': custom_colors_age[age]\n",
    "            },\n",
    "            'name': age\n",
    "        }\n",
    "        frame_age['data'].append(data_dict_age)\n",
    "\n",
    "    figure_age['frames'].append(frame_age)\n",
    "    slider_step_age = {'args': [\n",
    "        [year],\n",
    "        {'frame': {'duration': 300, 'redraw': False},\n",
    "         'mode': 'immediate',\n",
    "       'transition': {'duration': 300}}\n",
    "     ],\n",
    "     'label': year,\n",
    "     'method': 'animate'}\n",
    "    sliders_dict_age['steps'].append(slider_step_age)\n",
    "\n",
    "figure_age['layout']['sliders'] = [sliders_dict_age]"
   ]
  },
  {
   "cell_type": "code",
   "execution_count": 1062,
   "metadata": {},
   "outputs": [
    {
     "data": {
      "text/html": [
       "<iframe id=\"igraph\" scrolling=\"no\" style=\"border:none;\" seamless=\"seamless\" src=\"https://plot.ly/~EmmaVitz/157.embed\" height=\"525px\" width=\"100%\"></iframe>"
      ],
      "text/plain": [
       "<plotly.tools.PlotlyDisplay object>"
      ]
     },
     "execution_count": 1062,
     "metadata": {},
     "output_type": "execute_result"
    }
   ],
   "source": [
    "py.icreate_animations(figure_age, 'KS_example'+str(time.time()))"
   ]
  },
  {
   "cell_type": "code",
   "execution_count": 1063,
   "metadata": {},
   "outputs": [],
   "source": [
    "## KIWISAVER BY SEX\n",
    "## Getting Number of People in Kiwisaver and Total Number of People by Sex\n",
    "stmt_sex = ('SELECT a.Year, a.Sex, a.No_People, \\\n",
    "                     b.Number_of_People \\\n",
    "             FROM Total_Pop_by_Age_Gender a \\\n",
    "             LEFT JOIN Kiwisaver_by_Gender_tidy b \\\n",
    "             ON a.Year = b.Year \\\n",
    "             AND a.Sex = b.Gender \\\n",
    "             WHERE a.Sex != \\'Total people\\' \\\n",
    "             AND b.Gender != \\'No Information\\' \\\n",
    "             AND a.Age = \\'Total people, all ages\\'')\n",
    "\n",
    "\n",
    "results_sex = connection.execute(stmt_sex).fetchall()"
   ]
  },
  {
   "cell_type": "code",
   "execution_count": 1064,
   "metadata": {},
   "outputs": [
    {
     "name": "stdout",
     "output_type": "stream",
     "text": [
      "   Year     Sex Total_No_People No_People_in_KS\n",
      "0  2017  Female         2432800       1,406,493\n",
      "1  2017    Male         2361100       1,348,163\n",
      "2  2016  Female         2384100       1,348,815\n",
      "3  2016    Male         2309100       1,286,045\n",
      "4  2015  Female         2338500       1,294,793\n"
     ]
    }
   ],
   "source": [
    "## Turning it into a dataframe & renaming columns\n",
    "KS_sex = pd.DataFrame(results_sex)\n",
    "KS_sex.columns = ['Year', 'Sex', 'Total_No_People', 'No_People_in_KS']\n",
    "print(KS_sex.head())"
   ]
  },
  {
   "cell_type": "code",
   "execution_count": 1065,
   "metadata": {},
   "outputs": [
    {
     "name": "stdout",
     "output_type": "stream",
     "text": [
      "   Year     Sex Total_No_People No_People_in_KS\n",
      "0  2017  Female         2432800         1406493\n",
      "1  2017    Male         2361100         1348163\n",
      "2  2016  Female         2384100         1348815\n",
      "3  2016    Male         2309100         1286045\n",
      "4  2015  Female         2338500         1294793\n"
     ]
    }
   ],
   "source": [
    "## Removing commas from No_People_in_KS & turning it into an integer\n",
    "for i in range(0, len(KS_sex)):\n",
    "    KS_sex.No_People_in_KS[i] = int(str.replace(KS_sex.No_People_in_KS[i], ',', ''))\n",
    "    KS_sex.Total_No_People[i] = int(KS_sex.Total_No_People[i])\n",
    "print(KS_sex.head())"
   ]
  },
  {
   "cell_type": "code",
   "execution_count": 1066,
   "metadata": {},
   "outputs": [
    {
     "name": "stdout",
     "output_type": "stream",
     "text": [
      "   Year     Sex Total_No_People No_People_in_KS Prct_in_KS\n",
      "0  2017  Female         2432800         1406493   0.578138\n",
      "1  2017    Male         2361100         1348163   0.570989\n",
      "2  2016  Female         2384100         1348815   0.565754\n",
      "3  2016    Male         2309100         1286045   0.556946\n",
      "4  2015  Female         2338500         1294793   0.553685\n"
     ]
    }
   ],
   "source": [
    "## Calculating the percentage in Kiwisaver\n",
    "KS_sex['Prct_in_KS'] = KS_sex.No_People_in_KS / KS_sex.Total_No_People\n",
    "print(KS_sex.head())"
   ]
  },
  {
   "cell_type": "code",
   "execution_count": 1067,
   "metadata": {},
   "outputs": [
    {
     "name": "stdout",
     "output_type": "stream",
     "text": [
      "['2008', '2009', '2010', '2011', '2012', '2013', '2014', '2015', '2016', '2017']\n",
      "['Female', 'Male']\n"
     ]
    }
   ],
   "source": [
    "## Make the grid\n",
    "\n",
    "years_from_col_sex = set(KS_sex['Year'])\n",
    "years_ints_sex = sorted(list(years_from_col_sex))\n",
    "years_sex = [str(year) for year in years_ints_sex]\n",
    "print(years_sex)\n",
    "\n",
    "# make list of ages\n",
    "sexes = []\n",
    "for sex in KS_sex['Sex']:\n",
    "    if sex not in sexes: \n",
    "        sexes.append(sex)\n",
    "print(sexes)"
   ]
  },
  {
   "cell_type": "code",
   "execution_count": 1068,
   "metadata": {},
   "outputs": [
    {
     "data": {
      "text/plain": [
       "'https://plot.ly/~EmmaVitz/158/'"
      ]
     },
     "execution_count": 1068,
     "metadata": {},
     "output_type": "execute_result"
    }
   ],
   "source": [
    "columns_sex = []\n",
    "# make grid\n",
    "for year in years_sex:\n",
    "    for sex in sexes:\n",
    "        sexdataset_by_year = KS_sex[KS_sex['Year'] == year]\n",
    "        dataset_by_year_and_sex = sexdataset_by_year[sexdataset_by_year['Sex'] == sex]\n",
    "        for col_name in dataset_by_year_and_sex:\n",
    "            # each column name is unique\n",
    "            column_name = '{year}_{sex}_{header}_KS_grid'.format(\n",
    "                year=year, sex=sex, header=col_name\n",
    "            )\n",
    "            a_column = Column(list(dataset_by_year_and_sex[col_name]), column_name)\n",
    "            columns_sex.append(a_column)\n",
    "\n",
    "# upload grid\n",
    "grid_sex = Grid(columns_sex)\n",
    "url_sex = py.grid_ops.upload(grid_sex, 'KS_grid'+str(time.time()), auto_open=False)\n",
    "url_sex"
   ]
  },
  {
   "cell_type": "code",
   "execution_count": 1069,
   "metadata": {},
   "outputs": [],
   "source": [
    "## Make the figure\n",
    "figure_sex = {\n",
    "    'data': [],\n",
    "    'layout': {},\n",
    "    'frames': [],\n",
    "    'config': {'scrollzoom': True}\n",
    "}\n",
    "\n",
    "# fill in most of layout\n",
    "figure_sex['layout']['xaxis'] = {'range': [0.1, 0.6], 'title': 'Proportion of People in Kiwisaver', 'gridcolor': '#FFFFFF'}\n",
    "figure_sex['layout']['yaxis'] = {'title': 'Sex', 'gridcolor': '#FFFFFF'}\n",
    "figure_sex['layout']['title'] = 'Kiwisaver Participation by Sex, 2008 - 2017'\n",
    "figure_sex['layout']['hovermode'] = 'closest'\n",
    "figure_sex['layout']['plot_bgcolor'] = 'rgb(223, 232, 243)'"
   ]
  },
  {
   "cell_type": "code",
   "execution_count": 1070,
   "metadata": {},
   "outputs": [],
   "source": [
    "## Add slider\n",
    "sliders_dict_sex = {\n",
    "    'active': 0,\n",
    "    'yanchor': 'top',\n",
    "    'xanchor': 'left',\n",
    "    'currentvalue': {\n",
    "        'font': {'size': 20},\n",
    "        'prefix': 'Year:',\n",
    "        'visible': True,\n",
    "        'xanchor': 'right'\n",
    "    },\n",
    "    'transition': {'duration': 300, 'easing': 'cubic-in-out'},\n",
    "    'pad': {'b': 10, 't': 50},\n",
    "    'len': 0.9,\n",
    "    'x': 0.1,\n",
    "    'y': 0,\n",
    "    'steps': []\n",
    "}"
   ]
  },
  {
   "cell_type": "code",
   "execution_count": 1071,
   "metadata": {},
   "outputs": [],
   "source": [
    "## Add play and pause buttons\n",
    "figure_sex['layout']['updatemenus'] = [\n",
    "    {\n",
    "        'buttons': [\n",
    "            {\n",
    "                'args': [None, {'frame': {'duration': 500, 'redraw': False},\n",
    "                         'fromcurrent': True, 'transition': {'duration': 300, 'easing': 'quadratic-in-out'}}],\n",
    "                'label': 'Play',\n",
    "                'method': 'animate'\n",
    "            },\n",
    "            {\n",
    "                'args': [[None], {'frame': {'duration': 0, 'redraw': False}, 'mode': 'immediate',\n",
    "                'transition': {'duration': 0}}],\n",
    "                'label': 'Pause',\n",
    "                'method': 'animate'\n",
    "            }\n",
    "        ],\n",
    "        'direction': 'left',\n",
    "        'pad': {'r': 10, 't': 87},\n",
    "        'showactive': False,\n",
    "        'type': 'buttons',\n",
    "        'x': 0.1,\n",
    "        'xanchor': 'right',\n",
    "        'y': 0,\n",
    "        'yanchor': 'top'\n",
    "    }\n",
    "]\n",
    "\n",
    "custom_colors_sex = {\n",
    "    'Male': 'rgb(171, 99, 250)',\n",
    "    'Female': 'rgb(50, 170, 255)'\n",
    "}"
   ]
  },
  {
   "cell_type": "code",
   "execution_count": 1072,
   "metadata": {},
   "outputs": [],
   "source": [
    "## Fill in figure with data and frames\n",
    "col_name_template_sex = '{year}_{sex}_{header}_KS_grid'\n",
    "for sex in sexes:\n",
    "    data_dict_sex = {\n",
    "        'xsrc': grid_sex.get_column_reference(col_name_template_sex.format(\n",
    "            year=year, sex=sex, header='Prct_in_KS'\n",
    "        )),\n",
    "        'ysrc': grid_sex.get_column_reference(col_name_template_sex.format(\n",
    "            year=year, sex=sex, header='Sex'\n",
    "        )),\n",
    "        'mode': 'markers',\n",
    "        'textsrc': grid_sex.get_column_reference(col_name_template_sex.format(\n",
    "            year=year, sex=sex, header='Sex'\n",
    "        )),\n",
    "        'marker': {\n",
    "            'sizemode': 'area',\n",
    "            'sizeref': 1500,\n",
    "            'sizesrc': grid_sex.get_column_reference(col_name_template_sex.format(\n",
    "                year=year, sex=sex, header='No_People_in_KS'\n",
    "            )),\n",
    "            'color': custom_colors_sex[sex]\n",
    "        },\n",
    "        'name': sex\n",
    "}\n",
    "    figure_sex['data'].append(data_dict_sex)"
   ]
  },
  {
   "cell_type": "code",
   "execution_count": 1073,
   "metadata": {},
   "outputs": [],
   "source": [
    "## Plot\n",
    "for year in years_sex:\n",
    "    frame_sex = {'data': [], 'name': str(year)}\n",
    "    for sex in sexes:\n",
    "        data_dict_sex = {\n",
    "            'xsrc': grid_sex.get_column_reference(col_name_template_sex.format(\n",
    "                year=year, sex=sex, header='Prct_in_KS'\n",
    "            )),\n",
    "            'ysrc': grid_sex.get_column_reference(col_name_template_sex.format(\n",
    "                year=year, sex=sex, header='Sex'\n",
    "            )),\n",
    "            'mode': 'markers',\n",
    "            'textsrc': grid_sex.get_column_reference(col_name_template_sex.format(\n",
    "                year=year, sex=sex, header='Sex'\n",
    "                )),\n",
    "            'marker': {\n",
    "                'sizemode': 'area',\n",
    "                'sizeref': 1500,\n",
    "                'sizesrc': grid_sex.get_column_reference(col_name_template_sex.format(\n",
    "                    year=year, sex=sex, header='No_People_in_KS'\n",
    "                )),\n",
    "                'color': custom_colors_sex[sex]\n",
    "            },\n",
    "            'name': sex\n",
    "        }\n",
    "        frame_sex['data'].append(data_dict_sex)\n",
    "\n",
    "    figure_sex['frames'].append(frame_sex)\n",
    "    slider_step_sex = {'args': [\n",
    "        [year],\n",
    "        {'frame': {'duration': 300, 'redraw': False},\n",
    "         'mode': 'immediate',\n",
    "       'transition': {'duration': 300}}\n",
    "     ],\n",
    "     'label': year,\n",
    "     'method': 'animate'}\n",
    "    sliders_dict_sex['steps'].append(slider_step_sex)\n",
    "\n",
    "figure_sex['layout']['sliders'] = [sliders_dict_sex]"
   ]
  },
  {
   "cell_type": "code",
   "execution_count": 1074,
   "metadata": {},
   "outputs": [
    {
     "data": {
      "text/html": [
       "<iframe id=\"igraph\" scrolling=\"no\" style=\"border:none;\" seamless=\"seamless\" src=\"https://plot.ly/~EmmaVitz/159.embed\" height=\"525px\" width=\"100%\"></iframe>"
      ],
      "text/plain": [
       "<plotly.tools.PlotlyDisplay object>"
      ]
     },
     "execution_count": 1074,
     "metadata": {},
     "output_type": "execute_result"
    }
   ],
   "source": [
    "py.icreate_animations(figure_sex, 'KS_example'+str(time.time()))"
   ]
  },
  {
   "cell_type": "code",
   "execution_count": 1075,
   "metadata": {},
   "outputs": [],
   "source": [
    "## KIWISAVER BY SEX\n",
    "## Getting Number of People in Kiwisaver and Total Number of People by Sex\n",
    "stmt_region = ('SELECT a.*, b.No_People_in_Kiwisaver \\\n",
    "               FROM (SELECT Year, Region, SUM(Number_of_People) \\\n",
    "                   FROM (SELECT Year, CASE WHEN Region IN (\\'Nelson region\\', \\'Marlborough region\\', \\\n",
    "                                    \\'Tasman region\\', \\'West Coast region\\') THEN \\'Nelson/Tasman/Marlborough/West Coast\\' \\\n",
    "                        WHEN Region IN (\\'Gisborne region\\', \\'Hawkes Bay region\\') THEN \\'Gisborne/Hawkes Bay\\' \\\n",
    "                        WHEN Region = \\'Manawatu-Wanganui region\\' THEN \\'Manawatu-Wanganui\\' \\\n",
    "                        WHEN Region = \\'Auckland region\\' THEN \\'Auckland\\' \\\n",
    "                        WHEN Region = \\'Bay of Plenty region\\' THEN \\'Bay of Plenty\\' \\\n",
    "                        WHEN Region = \\'Canterbury region\\' THEN \\'Canterbury\\' \\\n",
    "                        WHEN Region = \\'Northland region\\' THEN \\'Northland\\' \\\n",
    "                        WHEN Region = \\'Otago region\\' THEN \\'Otago\\' \\\n",
    "                        WHEN Region = \\'Southland region\\' THEN \\'Southland\\' \\\n",
    "                        WHEN Region = \\'Taranaki region\\' THEN \\'Taranaki\\' \\\n",
    "                        WHEN Region = \\'Wellington region\\' THEN \\'Wellington\\' \\\n",
    "                        WHEN Region = \\'Waikato region\\' THEN \\'Waikato\\' \\\n",
    "                        ELSE Region = \\'Other\\' \\\n",
    "                        END as \\'Region\\', \\\n",
    "                        Number_of_People \\\n",
    "                        FROM Population_by_Region \\\n",
    "                        WHERE Region != \\'Total, New Zealand\\') \\\n",
    "                    GROUP BY Year, Region) a \\\n",
    "             LEFT JOIN (SELECT Date, Region, \\\n",
    "                                     SUM(No_People_In_Kiwisaver) as \\'No_People_in_Kiwisaver\\' \\\n",
    "                        FROM Kiwisaver_by_region_tidy \\\n",
    "                        WHERE Region != \\'Total\\' \\\n",
    "                        AND Region != \\'Other\\' \\\n",
    "                        AND Region != \\'Chatham Islands\\' \\\n",
    "                        GROUP BY Date, Region) b \\\n",
    "             ON a.Year = b.Date \\\n",
    "             AND a.Region = b.Region')\n",
    "                        \n",
    "             \n",
    "results_region = connection.execute(stmt_region).fetchall()"
   ]
  },
  {
   "cell_type": "code",
   "execution_count": 1081,
   "metadata": {},
   "outputs": [
    {
     "data": {
      "text/html": [
       "<div>\n",
       "<style>\n",
       "    .dataframe thead tr:only-child th {\n",
       "        text-align: right;\n",
       "    }\n",
       "\n",
       "    .dataframe thead th {\n",
       "        text-align: left;\n",
       "    }\n",
       "\n",
       "    .dataframe tbody tr th {\n",
       "        vertical-align: top;\n",
       "    }\n",
       "</style>\n",
       "<table border=\"1\" class=\"dataframe\">\n",
       "  <thead>\n",
       "    <tr style=\"text-align: right;\">\n",
       "      <th></th>\n",
       "      <th>Year</th>\n",
       "      <th>Region</th>\n",
       "      <th>No_Ppl</th>\n",
       "      <th>No_Ppl_KS</th>\n",
       "    </tr>\n",
       "  </thead>\n",
       "  <tbody>\n",
       "    <tr>\n",
       "      <th>0</th>\n",
       "      <td>2008</td>\n",
       "      <td>Auckland</td>\n",
       "      <td>1405500</td>\n",
       "      <td>267890.0</td>\n",
       "    </tr>\n",
       "    <tr>\n",
       "      <th>1</th>\n",
       "      <td>2008</td>\n",
       "      <td>Bay of Plenty</td>\n",
       "      <td>270200</td>\n",
       "      <td>40940.0</td>\n",
       "    </tr>\n",
       "    <tr>\n",
       "      <th>2</th>\n",
       "      <td>2008</td>\n",
       "      <td>Canterbury</td>\n",
       "      <td>553800</td>\n",
       "      <td>92861.0</td>\n",
       "    </tr>\n",
       "    <tr>\n",
       "      <th>3</th>\n",
       "      <td>2008</td>\n",
       "      <td>Gisborne/Hawkes Bay</td>\n",
       "      <td>199500</td>\n",
       "      <td>34233.0</td>\n",
       "    </tr>\n",
       "    <tr>\n",
       "      <th>4</th>\n",
       "      <td>2008</td>\n",
       "      <td>Manawatu-Wanganui</td>\n",
       "      <td>228600</td>\n",
       "      <td>30061.0</td>\n",
       "    </tr>\n",
       "  </tbody>\n",
       "</table>\n",
       "</div>"
      ],
      "text/plain": [
       "   Year               Region   No_Ppl  No_Ppl_KS\n",
       "0  2008             Auckland  1405500   267890.0\n",
       "1  2008        Bay of Plenty   270200    40940.0\n",
       "2  2008           Canterbury   553800    92861.0\n",
       "3  2008  Gisborne/Hawkes Bay   199500    34233.0\n",
       "4  2008    Manawatu-Wanganui   228600    30061.0"
      ]
     },
     "execution_count": 1081,
     "metadata": {},
     "output_type": "execute_result"
    }
   ],
   "source": [
    "## Turning it into a dataframe and renaming columns\n",
    "KS_region = pd.DataFrame(results_region)\n",
    "KS_region.columns = ['Year', 'Region', 'No_Ppl', 'No_Ppl_KS']\n",
    "KS_region.head()"
   ]
  },
  {
   "cell_type": "code",
   "execution_count": 1083,
   "metadata": {},
   "outputs": [],
   "source": [
    "## Calculating percentage of people in Kiwisaver by Region\n",
    "prct_KS_region = []\n",
    "for i in range(0, len(KS_region)):\n",
    "    prct_KS_region.append(KS_region.No_Ppl_KS[i] / KS_region.No_Ppl[i])"
   ]
  },
  {
   "cell_type": "code",
   "execution_count": 1084,
   "metadata": {},
   "outputs": [
    {
     "name": "stdout",
     "output_type": "stream",
     "text": [
      "   Year               Region   No_Ppl  No_Ppl_KS   Prct_KS\n",
      "0  2008             Auckland  1405500   267890.0  0.190601\n",
      "1  2008        Bay of Plenty   270200    40940.0  0.151517\n",
      "2  2008           Canterbury   553800    92861.0  0.167680\n",
      "3  2008  Gisborne/Hawkes Bay   199500    34233.0  0.171594\n",
      "4  2008    Manawatu-Wanganui   228600    30061.0  0.131500\n"
     ]
    }
   ],
   "source": [
    "regions_prct = pd.concat([KS_region, pd.Series(prct_KS_region)], axis=1)\n",
    "regions_prct.columns = ['Year', 'Region', 'No_Ppl', 'No_Ppl_KS', 'Prct_KS']\n",
    "print(regions_prct.head())"
   ]
  },
  {
   "cell_type": "code",
   "execution_count": 1086,
   "metadata": {},
   "outputs": [
    {
     "name": "stdout",
     "output_type": "stream",
     "text": [
      "['2008', '2009', '2010', '2011', '2012', '2013', '2014', '2015', '2016', '2017']\n",
      "['Auckland', 'Bay of Plenty', 'Canterbury', 'Gisborne/Hawkes Bay', 'Manawatu-Wanganui', 'Nelson/Tasman/Marlborough/West Coast', 'Northland', 'Otago', 'Southland', 'Taranaki', 'Waikato', 'Wellington']\n"
     ]
    }
   ],
   "source": [
    "#### MAKING THE ANIMATION\n",
    "## Make the grid\n",
    "years_from_col_region = set(regions_prct['Year'])\n",
    "years_ints_region = sorted(list(years_from_col_region))\n",
    "years_region = [str(year) for year in years_ints_region]\n",
    "print(years_region)\n",
    "\n",
    "# make list of regions\n",
    "regions = []\n",
    "for region in regions_prct['Region']:\n",
    "    if region not in regions: \n",
    "        regions.append(region)\n",
    "print(regions)"
   ]
  },
  {
   "cell_type": "code",
   "execution_count": 1087,
   "metadata": {},
   "outputs": [
    {
     "data": {
      "text/plain": [
       "'https://plot.ly/~EmmaVitz/160/'"
      ]
     },
     "execution_count": 1087,
     "metadata": {},
     "output_type": "execute_result"
    }
   ],
   "source": [
    "columns_regions = []\n",
    "# make grid\n",
    "for year in years_region:\n",
    "    for region in regions:\n",
    "        regdataset_by_year = regions_prct[regions_prct['Year'] == year]\n",
    "        dataset_by_year_and_region = regdataset_by_year[regdataset_by_year['Region'] == region]\n",
    "        for col_name in dataset_by_year_and_region:\n",
    "            # each column name is unique\n",
    "            column_name = '{year}_{region}_{header}_KS_grid'.format(\n",
    "                year=year, region=region, header=col_name\n",
    "            )\n",
    "            a_column = Column(list(dataset_by_year_and_region[col_name]), column_name)\n",
    "            columns_regions.append(a_column)\n",
    "\n",
    "# upload grid\n",
    "grid = Grid(columns_regions)\n",
    "url = py.grid_ops.upload(grid, 'KS_grid_region'+str(time.time()), auto_open=False)\n",
    "url"
   ]
  },
  {
   "cell_type": "code",
   "execution_count": 1088,
   "metadata": {},
   "outputs": [],
   "source": [
    "## MAKE THE FIGURE\n",
    "figure_region = {\n",
    "    'data': [],\n",
    "    'layout': {},\n",
    "    'frames': [],\n",
    "    'config': {'scrollzoom': True}\n",
    "}\n",
    "\n",
    "# fill in most of layout\n",
    "figure_region['layout']['xaxis'] = {'range': [0, 1], 'title': 'Percentage of People in Kiwisaver', 'gridcolor': '#FFFFFF'}\n",
    "figure_region['layout']['yaxis'] = {'title': 'Region', 'gridcolor': '#FFFFFF'}\n",
    "figure_region['layout']['hovermode'] = 'closest'\n",
    "figure_region['layout']['plot_bgcolor'] = 'rgb(223, 232, 243)'"
   ]
  },
  {
   "cell_type": "code",
   "execution_count": 1089,
   "metadata": {},
   "outputs": [],
   "source": [
    "## Add slider\n",
    "sliders_dict_region = {\n",
    "    'active': 0,\n",
    "    'yanchor': 'top',\n",
    "    'xanchor': 'left',\n",
    "    'currentvalue': {\n",
    "        'font': {'size': 20},\n",
    "        'prefix': 'Year:',\n",
    "        'visible': True,\n",
    "        'xanchor': 'right'\n",
    "    },\n",
    "    'transition': {'duration': 300, 'easing': 'cubic-in-out'},\n",
    "    'pad': {'b': 10, 't': 50},\n",
    "    'len': 0.9,\n",
    "    'x': 0.1,\n",
    "    'y': 0,\n",
    "    'steps': []\n",
    "}"
   ]
  },
  {
   "cell_type": "code",
   "execution_count": 1090,
   "metadata": {},
   "outputs": [],
   "source": [
    "## ADD PLAY AND PAUSE BUTTONS\n",
    "figure_region['layout']['updatemenus'] = [\n",
    "    {\n",
    "        'buttons': [\n",
    "            {\n",
    "                'args': [None, {'frame': {'duration': 500, 'redraw': False},\n",
    "                         'fromcurrent': True, 'transition': {'duration': 300, 'easing': 'quadratic-in-out'}}],\n",
    "                'label': 'Play',\n",
    "                'method': 'animate'\n",
    "            },\n",
    "            {\n",
    "                'args': [[None], {'frame': {'duration': 0, 'redraw': False}, 'mode': 'immediate',\n",
    "                'transition': {'duration': 0}}],\n",
    "                'label': 'Pause',\n",
    "                'method': 'animate'\n",
    "            }\n",
    "        ],\n",
    "        'direction': 'left',\n",
    "        'pad': {'r': 10, 't': 87},\n",
    "        'showactive': False,\n",
    "        'type': 'buttons',\n",
    "        'x': 0.1,\n",
    "        'xanchor': 'right',\n",
    "        'y': 0,\n",
    "        'yanchor': 'top'\n",
    "    }\n",
    "]\n",
    "\n",
    "custom_colors_region = {\n",
    "    'Auckland': '#a6cee3',\n",
    "    'Bay of Plenty': '#1f78b4',\n",
    "    'Canterbury': '#b2df8a',\n",
    "    'Gisborne/Hawkes Bay': '#33a02c',\n",
    "    'Manawatu-Wanganui': '#fb9a99',\n",
    "    'Nelson/Tasman/Marlborough/West Coast': '#e31a1c',\n",
    "    'Northland': '#fdbf6f',\n",
    "    'Otago': '#ff7f00',\n",
    "    'Southland': '#cab2d6',\n",
    "    'Taranaki': '#6a3d9a',\n",
    "    'Waikato': '#ffff99',\n",
    "    'Wellington': '#b15928',\n",
    "}"
   ]
  },
  {
   "cell_type": "code",
   "execution_count": 1091,
   "metadata": {},
   "outputs": [],
   "source": [
    "## Fill in figure with data and frames\n",
    "col_name_template_region = '{year}_{region}_{header}_KS_grid'\n",
    "for region in regions:\n",
    "    data_dict_region = {\n",
    "        'xsrc': grid.get_column_reference(col_name_template_region.format(\n",
    "            year=year, region=region, header='Prct_KS'\n",
    "        )),\n",
    "        'ysrc': grid.get_column_reference(col_name_template_region.format(\n",
    "            year=year, region=region, header='Region'\n",
    "        )),\n",
    "        'mode': 'markers',\n",
    "        'textsrc': grid.get_column_reference(col_name_template_region.format(\n",
    "            year=year, region=region, header='Region'\n",
    "        )),\n",
    "        'marker': {\n",
    "            'sizemode': 'area',\n",
    "            'sizeref': 1500,\n",
    "            'sizesrc': grid.get_column_reference(col_name_template_region.format(\n",
    "                year=year, region=region, header='No_Ppl'\n",
    "            )),\n",
    "            'color': custom_colors_region[region]\n",
    "        },\n",
    "        'name': region\n",
    "}\n",
    "    figure_region['data'].append(data_dict_region)"
   ]
  },
  {
   "cell_type": "code",
   "execution_count": 1092,
   "metadata": {},
   "outputs": [],
   "source": [
    "## PLOT\n",
    "for year in years_region:\n",
    "    frame_region = {'data': [], 'name': str(year)}\n",
    "    for region in regions:\n",
    "        data_dict_region = {\n",
    "            'xsrc': grid.get_column_reference(col_name_template_region.format(\n",
    "                year=year, region=region, header='Prct_KS'\n",
    "            )),\n",
    "            'ysrc': grid.get_column_reference(col_name_template_region.format(\n",
    "                year=year, region=region, header='Region'\n",
    "            )),\n",
    "            'mode': 'markers',\n",
    "            'textsrc': grid.get_column_reference(col_name_template_region.format(\n",
    "                year=year, region=region, header='Region'\n",
    "                )),\n",
    "            'marker': {\n",
    "                'sizemode': 'area',\n",
    "                'sizeref': 1500,\n",
    "                'sizesrc': grid.get_column_reference(col_name_template_region.format(\n",
    "                    year=year, region=region, header='No_Ppl'\n",
    "                )),\n",
    "                'color': custom_colors_region[region]\n",
    "            },\n",
    "            'name': region\n",
    "        }\n",
    "        frame_region['data'].append(data_dict_region)\n",
    "\n",
    "    figure_region['frames'].append(frame_region)\n",
    "    slider_step_region = {'args': [\n",
    "        [year],\n",
    "        {'frame': {'duration': 300, 'redraw': False},\n",
    "         'mode': 'immediate',\n",
    "       'transition': {'duration': 300}}\n",
    "     ],\n",
    "     'label': year,\n",
    "     'method': 'animate'}\n",
    "    sliders_dict_region['steps'].append(slider_step_region)\n",
    "\n",
    "figure_region['layout']['sliders'] = [sliders_dict_region]"
   ]
  },
  {
   "cell_type": "code",
   "execution_count": 1094,
   "metadata": {},
   "outputs": [
    {
     "data": {
      "text/html": [
       "<iframe id=\"igraph\" scrolling=\"no\" style=\"border:none;\" seamless=\"seamless\" src=\"https://plot.ly/~EmmaVitz/162.embed\" height=\"525px\" width=\"100%\"></iframe>"
      ],
      "text/plain": [
       "<plotly.tools.PlotlyDisplay object>"
      ]
     },
     "execution_count": 1094,
     "metadata": {},
     "output_type": "execute_result"
    }
   ],
   "source": [
    "py.icreate_animations(figure_region, 'KS_example'+str(time.time()))"
   ]
  },
  {
   "cell_type": "code",
   "execution_count": 1095,
   "metadata": {},
   "outputs": [],
   "source": [
    "## KIWISAVER WITHDRAWALS\n",
    "\n",
    "stmt_withdrawals = ('SELECT a.*, b.Median_price_NZ FROM \\\n",
    "                        (SELECT Year, \\\n",
    "                            WithdrawalReason, \\\n",
    "                            Number_of_People, \\\n",
    "                            CAST(Amount_Withdrawn AS DECIMAL) / CAST(Number_of_People AS DECIMAL) \\\n",
    "                               AS \\'Avg_Per_Person\\' \\\n",
    "                    FROM KS_withdrawals \\\n",
    "                    WHERE WithdrawalReason != \\'Total\\' \\\n",
    "                    GROUP BY Year, WithdrawalReason) a \\\n",
    "                    LEFT JOIN Median_House_Price b \\\n",
    "                    ON a.Year = b.Year')\n",
    "                        \n",
    "             \n",
    "results_withdrawals = connection.execute(stmt_withdrawals).fetchall()"
   ]
  },
  {
   "cell_type": "code",
   "execution_count": 1097,
   "metadata": {},
   "outputs": [],
   "source": [
    "## Turn it into a dataframe and change column names\n",
    "withdrawals = pd.DataFrame(results_withdrawals)\n",
    "withdrawals.columns = ['Year', 'WithdrawalReason', 'Number_of_People', 'Avg_Withdrawal_Per_Person', 'Median_House_Price']"
   ]
  },
  {
   "cell_type": "code",
   "execution_count": 5,
   "metadata": {},
   "outputs": [],
   "source": [
    "for i in range(0, len(withdrawals)):\n",
    "    withdrawals.Median_House_Price[i] = int(withdrawals.Median_House_Price[i])"
   ]
  },
  {
   "cell_type": "code",
   "execution_count": 1099,
   "metadata": {},
   "outputs": [
    {
     "name": "stdout",
     "output_type": "stream",
     "text": [
      "['2009', '2010', '2011', '2012', '2013', '2014', '2015', '2016', '2017']\n",
      "['FinancialHardship', 'FirstHome']\n"
     ]
    }
   ],
   "source": [
    "## PLOT ANIMATION OF WITHDRAWALS ##\n",
    "## Make the grid\n",
    "\n",
    "years_withdrawals = ['2009', '2010', '2011', '2012', '2013', '2014', '2015', '2016', '2017']\n",
    "print(years_withdrawals)\n",
    "\n",
    "# Make list of withdrawal reasons\n",
    "reasons = []\n",
    "for reason in withdrawals['WithdrawalReason']:\n",
    "    if reason not in reasons: \n",
    "        reasons.append(reason)\n",
    "print(reasons)"
   ]
  },
  {
   "cell_type": "code",
   "execution_count": 1100,
   "metadata": {},
   "outputs": [
    {
     "data": {
      "text/plain": [
       "'https://plot.ly/~EmmaVitz/163/'"
      ]
     },
     "execution_count": 1100,
     "metadata": {},
     "output_type": "execute_result"
    }
   ],
   "source": [
    "columns_withdrawals = []\n",
    "# make grid\n",
    "for year in years_withdrawals:\n",
    "    for reason in reasons:\n",
    "        withdrawals_by_year = withdrawals[withdrawals['Year'] == year]\n",
    "        withdrawals_by_year_and_reason = withdrawals_by_year[withdrawals_by_year['WithdrawalReason'] == reason]\n",
    "        for col_name in withdrawals_by_year_and_reason:\n",
    "            # each column name is unique\n",
    "            column_name = '{year}_{reason}_{header}_KS_grid'.format(\n",
    "                year=year, reason=reason, header=col_name\n",
    "            )\n",
    "            a_column = Column(list(withdrawals_by_year_and_reason[col_name]), column_name)\n",
    "            columns_withdrawals.append(a_column)\n",
    "\n",
    "# upload grid\n",
    "grid = Grid(columns_withdrawals)\n",
    "url = py.grid_ops.upload(grid, 'KS_withdrawals_grid'+str(time.time()), auto_open=False)\n",
    "url"
   ]
  },
  {
   "cell_type": "code",
   "execution_count": 1101,
   "metadata": {},
   "outputs": [],
   "source": [
    "## Make the figure\n",
    "figure_wd = {\n",
    "    'data': [],\n",
    "    'layout': {},\n",
    "    'frames': [],\n",
    "    'config': {'scrollzoom': True}\n",
    "}\n",
    "\n",
    "# fill in most of layout\n",
    "figure_wd['layout']['xaxis'] = {'range': [300000, 600000], 'title': 'Median House Price in New Zealand', 'gridcolor': '#FFFFFF'}\n",
    "figure_wd['layout']['yaxis'] = {'range': [0, 20000], 'title': 'Average Withdrawal from KiwiSaver', 'gridcolor': '#FFFFFF'}\n",
    "figure_wd['layout']['hovermode'] = 'closest'\n",
    "figure_wd['layout']['plot_bgcolor'] = 'rgb(223, 232, 243)'\n"
   ]
  },
  {
   "cell_type": "code",
   "execution_count": 1102,
   "metadata": {},
   "outputs": [],
   "source": [
    "## Add slider\n",
    "sliders_dict_wd = {\n",
    "    'active': 0,\n",
    "    'yanchor': 'top',\n",
    "    'xanchor': 'left',\n",
    "    'currentvalue': {\n",
    "        'font': {'size': 20},\n",
    "        'prefix': 'Year:',\n",
    "        'visible': True,\n",
    "        'xanchor': 'right'\n",
    "    },\n",
    "    'transition': {'duration': 300, 'easing': 'cubic-in-out'},\n",
    "    'pad': {'b': 10, 't': 50},\n",
    "    'len': 0.9,\n",
    "    'x': 0.1,\n",
    "    'y': 0,\n",
    "    'steps': []\n",
    "}\n"
   ]
  },
  {
   "cell_type": "code",
   "execution_count": 1103,
   "metadata": {},
   "outputs": [],
   "source": [
    "## Add play and pause buttons\n",
    "figure_wd['layout']['updatemenus'] = [\n",
    "    {\n",
    "        'buttons': [\n",
    "            {\n",
    "                'args': [None, {'frame': {'duration': 500, 'redraw': False},\n",
    "                         'fromcurrent': True, 'transition': {'duration': 300, 'easing': 'quadratic-in-out'}}],\n",
    "                'label': 'Play',\n",
    "                'method': 'animate'\n",
    "            },\n",
    "            {\n",
    "                'args': [[None], {'frame': {'duration': 0, 'redraw': False}, 'mode': 'immediate',\n",
    "                'transition': {'duration': 0}}],\n",
    "                'label': 'Pause',\n",
    "                'method': 'animate'\n",
    "            }\n",
    "        ],\n",
    "        'direction': 'left',\n",
    "        'pad': {'r': 10, 't': 87},\n",
    "        'showactive': False,\n",
    "        'type': 'buttons',\n",
    "        'x': 0.1,\n",
    "        'xanchor': 'right',\n",
    "        'y': 0,\n",
    "        'yanchor': 'top'\n",
    "    }\n",
    "]\n",
    "\n",
    "custom_colors_wd = {\n",
    "    'FinancialHardship': 'rgb(171, 99, 250)',\n",
    "    'FirstHome': 'rgb(50, 170, 255)'\n",
    "}"
   ]
  },
  {
   "cell_type": "code",
   "execution_count": 1104,
   "metadata": {},
   "outputs": [],
   "source": [
    "## Fill in figure with data and frames\n",
    "col_name_template_wd = '{year}_{reason}_{header}_KS_grid'\n",
    "for reason in reasons:\n",
    "    data_dict_wd = {\n",
    "        'xsrc': grid.get_column_reference(col_name_template_wd.format(\n",
    "            year=year, reason=reason, header='Median_House_Price'\n",
    "        )),\n",
    "        'ysrc': grid.get_column_reference(col_name_template_wd.format(\n",
    "            year=year, reason=reason, header='Avg_Withdrawal_Per_Person'\n",
    "        )),\n",
    "        'mode': 'markers',\n",
    "        'textsrc': grid.get_column_reference(col_name_template_wd.format(\n",
    "            year=year, reason=reason, header='Avg_Withdrawal_Per_Person'\n",
    "        )),\n",
    "        'marker': {\n",
    "            'sizemode': 'area',\n",
    "            'sizeref': 50,\n",
    "            'sizesrc': grid.get_column_reference(col_name_template_wd.format(\n",
    "                year=year, reason = reason, header='Number_of_People'\n",
    "            )),\n",
    "            'color': custom_colors_wd[reason]\n",
    "            },\n",
    "        'name': reason\n",
    "    }\n",
    "    figure_wd['data'].append(data_dict_wd)\n"
   ]
  },
  {
   "cell_type": "code",
   "execution_count": 1105,
   "metadata": {},
   "outputs": [],
   "source": [
    "## Plot\n",
    "for year in years_withdrawals:\n",
    "    frame_wd = {'data': [], 'name': str(year)}\n",
    "    for reason in reasons:\n",
    "        data_dict_wd = {\n",
    "            'xsrc': grid.get_column_reference(col_name_template_wd.format(\n",
    "                year=year, reason=reason, header='Median_House_Price'\n",
    "            )),\n",
    "            'ysrc': grid.get_column_reference(col_name_template_wd.format(\n",
    "                year=year, reason=reason, header='Avg_Withdrawal_Per_Person'\n",
    "            )),\n",
    "            'mode': 'markers',\n",
    "            'textsrc': grid.get_column_reference(col_name_template_wd.format(\n",
    "                year=year, reason=reason, header='Avg_Withdrawal_Per_Person'\n",
    "                )),\n",
    "            'marker': {\n",
    "                'sizemode': 'area',\n",
    "                'sizeref': 50,\n",
    "                'sizesrc': grid.get_column_reference(col_name_template_wd.format(\n",
    "                year=year, reason = reason, header='Number_of_People'\n",
    "                )),\n",
    "                'color': custom_colors_wd[reason]\n",
    "            },\n",
    "            'name': reason\n",
    "        }\n",
    "        frame_wd['data'].append(data_dict_wd)\n",
    "\n",
    "    figure_wd['frames'].append(frame_wd)\n",
    "    slider_step_wd = {'args': [\n",
    "        [year],\n",
    "        {'frame': {'duration': 300, 'redraw': False},\n",
    "         'mode': 'immediate',\n",
    "       'transition': {'duration': 300}}\n",
    "     ],\n",
    "     'label': year,\n",
    "     'method': 'animate'}\n",
    "    sliders_dict_wd['steps'].append(slider_step_wd)\n",
    "\n",
    "figure_wd['layout']['sliders'] = [sliders_dict_wd]\n"
   ]
  },
  {
   "cell_type": "code",
   "execution_count": 1106,
   "metadata": {},
   "outputs": [
    {
     "data": {
      "text/html": [
       "<iframe id=\"igraph\" scrolling=\"no\" style=\"border:none;\" seamless=\"seamless\" src=\"https://plot.ly/~EmmaVitz/164.embed\" height=\"525px\" width=\"100%\"></iframe>"
      ],
      "text/plain": [
       "<plotly.tools.PlotlyDisplay object>"
      ]
     },
     "execution_count": 1106,
     "metadata": {},
     "output_type": "execute_result"
    }
   ],
   "source": [
    "py.icreate_animations(figure_wd, 'KS_withdrawals'+str(time.time()))"
   ]
  },
  {
   "cell_type": "code",
   "execution_count": 1108,
   "metadata": {},
   "outputs": [],
   "source": [
    "## Get housing costs and income by broad regions\n",
    "housing_income_stmt = (\"SELECT Year, \\\n",
    "                               Broad_Region, \\\n",
    "                               Measure, \\\n",
    "                               Value \\\n",
    "                        FROM Housing_costs \\\n",
    "                        WHERE Year != 2007\")\n",
    "\n",
    "results_housing_income = connection.execute(housing_income_stmt).fetchall()"
   ]
  },
  {
   "cell_type": "code",
   "execution_count": 1109,
   "metadata": {},
   "outputs": [
    {
     "data": {
      "text/html": [
       "<div>\n",
       "<style>\n",
       "    .dataframe thead tr:only-child th {\n",
       "        text-align: right;\n",
       "    }\n",
       "\n",
       "    .dataframe thead th {\n",
       "        text-align: left;\n",
       "    }\n",
       "\n",
       "    .dataframe tbody tr th {\n",
       "        vertical-align: top;\n",
       "    }\n",
       "</style>\n",
       "<table border=\"1\" class=\"dataframe\">\n",
       "  <thead>\n",
       "    <tr style=\"text-align: right;\">\n",
       "      <th></th>\n",
       "      <th>Year</th>\n",
       "      <th>Region</th>\n",
       "      <th>Measure</th>\n",
       "      <th>Value</th>\n",
       "    </tr>\n",
       "  </thead>\n",
       "  <tbody>\n",
       "    <tr>\n",
       "      <th>0</th>\n",
       "      <td>2008</td>\n",
       "      <td>Auckland</td>\n",
       "      <td>Average annual household income</td>\n",
       "      <td>87647</td>\n",
       "    </tr>\n",
       "    <tr>\n",
       "      <th>1</th>\n",
       "      <td>2008</td>\n",
       "      <td>Wellington</td>\n",
       "      <td>Average annual household income</td>\n",
       "      <td>90475</td>\n",
       "    </tr>\n",
       "    <tr>\n",
       "      <th>2</th>\n",
       "      <td>2008</td>\n",
       "      <td>Rest of North Island</td>\n",
       "      <td>Average annual household income</td>\n",
       "      <td>64554</td>\n",
       "    </tr>\n",
       "    <tr>\n",
       "      <th>3</th>\n",
       "      <td>2008</td>\n",
       "      <td>Canterbury</td>\n",
       "      <td>Average annual household income</td>\n",
       "      <td>66186</td>\n",
       "    </tr>\n",
       "    <tr>\n",
       "      <th>4</th>\n",
       "      <td>2008</td>\n",
       "      <td>Rest of South Island</td>\n",
       "      <td>Average annual household income</td>\n",
       "      <td>66003</td>\n",
       "    </tr>\n",
       "  </tbody>\n",
       "</table>\n",
       "</div>"
      ],
      "text/plain": [
       "   Year                Region                          Measure  Value\n",
       "0  2008              Auckland  Average annual household income  87647\n",
       "1  2008            Wellington  Average annual household income  90475\n",
       "2  2008  Rest of North Island  Average annual household income  64554\n",
       "3  2008            Canterbury  Average annual household income  66186\n",
       "4  2008  Rest of South Island  Average annual household income  66003"
      ]
     },
     "execution_count": 1109,
     "metadata": {},
     "output_type": "execute_result"
    }
   ],
   "source": [
    "## Turn it into a dataframe and rename columns\n",
    "housing_income = pd.DataFrame(results_housing_income)\n",
    "housing_income.columns = ['Year', 'Region', 'Measure', 'Value']\n",
    "housing_income.head()"
   ]
  },
  {
   "cell_type": "code",
   "execution_count": null,
   "metadata": {},
   "outputs": [],
   "source": [
    "## Making numbers into floats\n",
    "\n",
    "for i in range(0, len(housing_income)):\n",
    "    housing_income.Value[i] = float(housing_income.Value[i])"
   ]
  },
  {
   "cell_type": "code",
   "execution_count": 1110,
   "metadata": {},
   "outputs": [],
   "source": [
    "## Pivot variables so income, costs and the ratio are in separate columns\n",
    "housing_ratio = housing_income.groupby(['Year', 'Region', 'Measure'])['Value'].sum().unstack('Measure')"
   ]
  },
  {
   "cell_type": "code",
   "execution_count": 1111,
   "metadata": {},
   "outputs": [
    {
     "data": {
      "text/html": [
       "<div>\n",
       "<style>\n",
       "    .dataframe thead tr:only-child th {\n",
       "        text-align: right;\n",
       "    }\n",
       "\n",
       "    .dataframe thead th {\n",
       "        text-align: left;\n",
       "    }\n",
       "\n",
       "    .dataframe tbody tr th {\n",
       "        vertical-align: top;\n",
       "    }\n",
       "</style>\n",
       "<table border=\"1\" class=\"dataframe\">\n",
       "  <thead>\n",
       "    <tr style=\"text-align: right;\">\n",
       "      <th>Measure</th>\n",
       "      <th>Year</th>\n",
       "      <th>Region</th>\n",
       "      <th>Average annual household income</th>\n",
       "      <th>Average annual housing costs</th>\n",
       "      <th>Ratio of housing costs to total household income</th>\n",
       "    </tr>\n",
       "  </thead>\n",
       "  <tbody>\n",
       "    <tr>\n",
       "      <th>0</th>\n",
       "      <td>2008</td>\n",
       "      <td>Auckland</td>\n",
       "      <td>87647</td>\n",
       "      <td>15372</td>\n",
       "      <td>17.5</td>\n",
       "    </tr>\n",
       "    <tr>\n",
       "      <th>1</th>\n",
       "      <td>2008</td>\n",
       "      <td>Canterbury</td>\n",
       "      <td>66186</td>\n",
       "      <td>11384</td>\n",
       "      <td>17.2</td>\n",
       "    </tr>\n",
       "    <tr>\n",
       "      <th>2</th>\n",
       "      <td>2008</td>\n",
       "      <td>New Zealand</td>\n",
       "      <td>74882</td>\n",
       "      <td>11967</td>\n",
       "      <td>16</td>\n",
       "    </tr>\n",
       "    <tr>\n",
       "      <th>3</th>\n",
       "      <td>2008</td>\n",
       "      <td>Rest of North Island</td>\n",
       "      <td>64554</td>\n",
       "      <td>9122</td>\n",
       "      <td>14.1</td>\n",
       "    </tr>\n",
       "    <tr>\n",
       "      <th>4</th>\n",
       "      <td>2008</td>\n",
       "      <td>Rest of South Island</td>\n",
       "      <td>66003</td>\n",
       "      <td>9150</td>\n",
       "      <td>13.9</td>\n",
       "    </tr>\n",
       "  </tbody>\n",
       "</table>\n",
       "</div>"
      ],
      "text/plain": [
       "Measure  Year                Region Average annual household income  \\\n",
       "0        2008              Auckland                           87647   \n",
       "1        2008            Canterbury                           66186   \n",
       "2        2008           New Zealand                           74882   \n",
       "3        2008  Rest of North Island                           64554   \n",
       "4        2008  Rest of South Island                           66003   \n",
       "\n",
       "Measure Average annual housing costs  \\\n",
       "0                              15372   \n",
       "1                              11384   \n",
       "2                              11967   \n",
       "3                               9122   \n",
       "4                               9150   \n",
       "\n",
       "Measure Ratio of housing costs to total household income  \n",
       "0                                                   17.5  \n",
       "1                                                   17.2  \n",
       "2                                                     16  \n",
       "3                                                   14.1  \n",
       "4                                                   13.9  "
      ]
     },
     "execution_count": 1111,
     "metadata": {},
     "output_type": "execute_result"
    }
   ],
   "source": [
    "housing_ratio = housing_ratio.reset_index()\n",
    "housing_ratio.head()"
   ]
  },
  {
   "cell_type": "code",
   "execution_count": 1113,
   "metadata": {},
   "outputs": [
    {
     "name": "stdout",
     "output_type": "stream",
     "text": [
      "['2008', '2009', '2010', '2011', '2012', '2013', '2014', '2015', '2016', '2017']\n",
      "['Auckland', 'Canterbury', 'New Zealand', 'Rest of North Island', 'Rest of South Island', 'Wellington']\n"
     ]
    }
   ],
   "source": [
    "#### MAKING THE ANIMATION\n",
    "## MAKE THE GRID\n",
    "\n",
    "years_from_col_housing_income = set(housing_ratio['Year'])\n",
    "years_ints_housing_income = sorted(list(years_from_col_housing_income))\n",
    "years_housing_income = [str(year) for year in years_ints_housing_income]\n",
    "print(years_housing_income)\n",
    "\n",
    "# make list of type of ownership \n",
    "regions_broad = []\n",
    "for region in housing_ratio['Region']:\n",
    "    if region not in regions_broad: \n",
    "        regions_broad.append(region)\n",
    "print(regions_broad)"
   ]
  },
  {
   "cell_type": "code",
   "execution_count": 1114,
   "metadata": {},
   "outputs": [
    {
     "data": {
      "text/plain": [
       "'https://plot.ly/~EmmaVitz/165/'"
      ]
     },
     "execution_count": 1114,
     "metadata": {},
     "output_type": "execute_result"
    }
   ],
   "source": [
    "columns_housing_income = []\n",
    "# make grid\n",
    "for year in years_housing_income:\n",
    "    for region in regions_broad:\n",
    "        housing_income_dataset_by_year = housing_ratio[housing_ratio['Year'] == year]\n",
    "        dataset_by_year_and_region = housing_income_dataset_by_year[housing_income_dataset_by_year['Region'] == region]\n",
    "        for col_name in dataset_by_year_and_region:\n",
    "            # each column name is unique\n",
    "            column_name = '{year}_{region}_{header}_KS_grid'.format(\n",
    "                year=year, region=region, header=col_name\n",
    "            )\n",
    "            a_column = Column(list(dataset_by_year_and_region[col_name]), column_name)\n",
    "            columns_housing_income.append(a_column)\n",
    "\n",
    "# upload grid\n",
    "grid_housing_income = Grid(columns_housing_income)\n",
    "url = py.grid_ops.upload(grid_housing_income, 'KS_grid_ownership'+str(time.time()), auto_open=False)\n",
    "url\n",
    "       "
   ]
  },
  {
   "cell_type": "code",
   "execution_count": 1116,
   "metadata": {},
   "outputs": [],
   "source": [
    "## Make the figure\n",
    "figure_housing_income = {\n",
    "    'data': [],\n",
    "    'layout': {},\n",
    "    'frames': [],\n",
    "    'config': {'scrollzoom': True}\n",
    "}\n",
    "\n",
    "# fill in most of layout\n",
    "figure_housing_income['layout']['xaxis'] = {'range': [50000, 140000], 'title': 'Average Annual Household Income', 'gridcolor': '#FFFFFF'}\n",
    "figure_housing_income['layout']['yaxis'] = {'range': [7000, 30000],'title': 'Average Annual Housing Costs', 'gridcolor': '#FFFFFF'}\n",
    "figure_housing_income['layout']['hovermode'] = 'closest'\n",
    "figure_housing_income['layout']['plot_bgcolor'] = 'rgb(223, 232, 243)'"
   ]
  },
  {
   "cell_type": "code",
   "execution_count": 1117,
   "metadata": {},
   "outputs": [],
   "source": [
    "## Add slider\n",
    "sliders_dict_housing_income = {\n",
    "    'active': 0,\n",
    "    'yanchor': 'top',\n",
    "    'xanchor': 'left',\n",
    "    'currentvalue': {\n",
    "        'font': {'size': 20},\n",
    "        'prefix': 'Year:',\n",
    "        'visible': True,\n",
    "        'xanchor': 'right'\n",
    "    },\n",
    "    'transition': {'duration': 300, 'easing': 'cubic-in-out'},\n",
    "    'pad': {'b': 10, 't': 50},\n",
    "    'len': 0.9,\n",
    "    'x': 0.1,\n",
    "    'y': 0,\n",
    "    'steps': []\n",
    "}"
   ]
  },
  {
   "cell_type": "code",
   "execution_count": 1118,
   "metadata": {},
   "outputs": [],
   "source": [
    "## ADD PLAY AND PAUSE BUTTONS\n",
    "figure_housing_income['layout']['updatemenus'] = [\n",
    "    {\n",
    "        'buttons': [\n",
    "            {\n",
    "                'args': [None, {'frame': {'duration': 500, 'redraw': False},\n",
    "                         'fromcurrent': True, 'transition': {'duration': 300, 'easing': 'quadratic-in-out'}}],\n",
    "                'label': 'Play',\n",
    "                'method': 'animate'\n",
    "            },\n",
    "            {\n",
    "                'args': [[None], {'frame': {'duration': 0, 'redraw': False}, 'mode': 'immediate',\n",
    "                'transition': {'duration': 0}}],\n",
    "                'label': 'Pause',\n",
    "                'method': 'animate'\n",
    "            }\n",
    "        ],\n",
    "        'direction': 'left',\n",
    "        'pad': {'r': 10, 't': 87},\n",
    "        'showactive': False,\n",
    "        'type': 'buttons',\n",
    "        'x': 0.1,\n",
    "        'xanchor': 'right',\n",
    "        'y': 0,\n",
    "        'yanchor': 'top'\n",
    "    }\n",
    "]\n",
    "\n",
    "custom_colors_housing_income = {\n",
    "    'Auckland': 'rgb(171, 99, 250)',\n",
    "    'Canterbury': 'rgb(230, 99, 250)',\n",
    "    'New Zealand': 'rgb(99, 110, 250)',\n",
    "    'Rest of North Island': 'rgb(25, 211, 243)',\n",
    "    'Rest of South Island': 'rgb(50, 170, 255)',\n",
    "    'Wellington': '#33a02c'\n",
    "}"
   ]
  },
  {
   "cell_type": "code",
   "execution_count": 1119,
   "metadata": {},
   "outputs": [],
   "source": [
    "## FILL IN FIGURE WITH DATA AND FRAMES\n",
    "col_name_template_housing_income = '{year}_{region}_{header}_KS_grid'\n",
    "for region in regions_broad:\n",
    "    data_dict_housing_income = {\n",
    "        'xsrc': grid_housing_income.get_column_reference(col_name_template_housing_income.format(\n",
    "            year=year, region=region, header='Average annual household income'\n",
    "        )),\n",
    "        'ysrc': grid_housing_income.get_column_reference(col_name_template_housing_income.format(\n",
    "            year=year, region=region, header='Average annual housing costs'\n",
    "        )),\n",
    "        'mode': 'markers',\n",
    "        'textsrc': grid_housing_income.get_column_reference(col_name_template_housing_income.format(\n",
    "            year=year, region=region, header='Region'\n",
    "        )),\n",
    "        'marker': {\n",
    "            'sizemode': 'area',\n",
    "            'sizeref': 2500,\n",
    "            'color': custom_colors_housing_income[region]\n",
    "        },\n",
    "        'name': region\n",
    "}\n",
    "    figure_housing_income['data'].append(data_dict_housing_income)"
   ]
  },
  {
   "cell_type": "code",
   "execution_count": 1120,
   "metadata": {},
   "outputs": [],
   "source": [
    "## Plot\n",
    "for year in years_housing_income:\n",
    "    frame_housing_income = {'data': [], 'name': str(year)}\n",
    "    for region in regions_broad:\n",
    "        data_dict_housing_income = {\n",
    "            'xsrc': grid_housing_income.get_column_reference(col_name_template_housing_income.format(\n",
    "                year=year, region=region, header='Average annual household income'\n",
    "            )),\n",
    "            'ysrc': grid_housing_income.get_column_reference(col_name_template_housing_income.format(\n",
    "                year=year, region=region, header='Average annual housing costs'\n",
    "            )),\n",
    "            'mode': 'markers',\n",
    "            'textsrc': grid_housing_income.get_column_reference(col_name_template_housing_income.format(\n",
    "                year=year, region=region, header='Region'\n",
    "                )),\n",
    "            'marker': {\n",
    "                'sizemode': 'area',\n",
    "                'sizeref': 2500,\n",
    "                'color': custom_colors_housing_income[region]\n",
    "            },\n",
    "            'name': region\n",
    "        }\n",
    "        frame_housing_income['data'].append(data_dict_housing_income)\n",
    "\n",
    "    figure_housing_income['frames'].append(frame_housing_income)\n",
    "    slider_step_housing_income = {'args': [\n",
    "        [year],\n",
    "        {'frame': {'duration': 300, 'redraw': False},\n",
    "         'mode': 'immediate',\n",
    "       'transition': {'duration': 300}}\n",
    "     ],\n",
    "     'label': year,\n",
    "     'method': 'animate'}\n",
    "    sliders_dict_housing_income['steps'].append(slider_step_housing_income)\n",
    "\n",
    "figure_housing_income['layout']['sliders'] = [sliders_dict_housing_income]"
   ]
  },
  {
   "cell_type": "code",
   "execution_count": 1122,
   "metadata": {},
   "outputs": [
    {
     "data": {
      "text/html": [
       "<iframe id=\"igraph\" scrolling=\"no\" style=\"border:none;\" seamless=\"seamless\" src=\"https://plot.ly/~EmmaVitz/167.embed\" height=\"525px\" width=\"100%\"></iframe>"
      ],
      "text/plain": [
       "<plotly.tools.PlotlyDisplay object>"
      ]
     },
     "execution_count": 1122,
     "metadata": {},
     "output_type": "execute_result"
    }
   ],
   "source": [
    "py.icreate_animations(figure_housing_income, 'KS_example'+str(time.time()))"
   ]
  },
  {
   "cell_type": "code",
   "execution_count": null,
   "metadata": {},
   "outputs": [],
   "source": []
  },
  {
   "cell_type": "code",
   "execution_count": null,
   "metadata": {},
   "outputs": [],
   "source": [
    "\n"
   ]
  },
  {
   "cell_type": "code",
   "execution_count": null,
   "metadata": {},
   "outputs": [],
   "source": []
  },
  {
   "cell_type": "code",
   "execution_count": null,
   "metadata": {},
   "outputs": [],
   "source": []
  },
  {
   "cell_type": "code",
   "execution_count": null,
   "metadata": {},
   "outputs": [],
   "source": []
  },
  {
   "cell_type": "code",
   "execution_count": null,
   "metadata": {},
   "outputs": [],
   "source": []
  },
  {
   "cell_type": "code",
   "execution_count": 740,
   "metadata": {},
   "outputs": [],
   "source": [
    " "
   ]
  },
  {
   "cell_type": "code",
   "execution_count": 741,
   "metadata": {},
   "outputs": [],
   "source": []
  },
  {
   "cell_type": "code",
   "execution_count": 742,
   "metadata": {},
   "outputs": [],
   "source": [
    "\n",
    "\n"
   ]
  },
  {
   "cell_type": "code",
   "execution_count": 743,
   "metadata": {},
   "outputs": [],
   "source": [
    "\n"
   ]
  },
  {
   "cell_type": "code",
   "execution_count": 744,
   "metadata": {},
   "outputs": [],
   "source": []
  },
  {
   "cell_type": "code",
   "execution_count": null,
   "metadata": {},
   "outputs": [],
   "source": []
  },
  {
   "cell_type": "code",
   "execution_count": 859,
   "metadata": {},
   "outputs": [],
   "source": []
  },
  {
   "cell_type": "code",
   "execution_count": 860,
   "metadata": {},
   "outputs": [],
   "source": []
  },
  {
   "cell_type": "code",
   "execution_count": null,
   "metadata": {},
   "outputs": [],
   "source": []
  },
  {
   "cell_type": "code",
   "execution_count": null,
   "metadata": {},
   "outputs": [],
   "source": []
  },
  {
   "cell_type": "code",
   "execution_count": null,
   "metadata": {},
   "outputs": [],
   "source": []
  },
  {
   "cell_type": "code",
   "execution_count": null,
   "metadata": {},
   "outputs": [],
   "source": []
  },
  {
   "cell_type": "code",
   "execution_count": null,
   "metadata": {},
   "outputs": [],
   "source": []
  },
  {
   "cell_type": "code",
   "execution_count": null,
   "metadata": {},
   "outputs": [],
   "source": []
  },
  {
   "cell_type": "code",
   "execution_count": 872,
   "metadata": {},
   "outputs": [],
   "source": []
  },
  {
   "cell_type": "code",
   "execution_count": 873,
   "metadata": {},
   "outputs": [],
   "source": []
  },
  {
   "cell_type": "code",
   "execution_count": 874,
   "metadata": {},
   "outputs": [],
   "source": []
  },
  {
   "cell_type": "code",
   "execution_count": 875,
   "metadata": {},
   "outputs": [],
   "source": []
  },
  {
   "cell_type": "code",
   "execution_count": 876,
   "metadata": {},
   "outputs": [],
   "source": []
  },
  {
   "cell_type": "code",
   "execution_count": null,
   "metadata": {},
   "outputs": [],
   "source": []
  },
  {
   "cell_type": "code",
   "execution_count": null,
   "metadata": {},
   "outputs": [],
   "source": []
  },
  {
   "cell_type": "code",
   "execution_count": 466,
   "metadata": {},
   "outputs": [],
   "source": []
  },
  {
   "cell_type": "code",
   "execution_count": 467,
   "metadata": {},
   "outputs": [],
   "source": []
  },
  {
   "cell_type": "code",
   "execution_count": null,
   "metadata": {},
   "outputs": [],
   "source": []
  },
  {
   "cell_type": "code",
   "execution_count": 469,
   "metadata": {},
   "outputs": [],
   "source": []
  },
  {
   "cell_type": "code",
   "execution_count": null,
   "metadata": {},
   "outputs": [],
   "source": []
  },
  {
   "cell_type": "code",
   "execution_count": 471,
   "metadata": {},
   "outputs": [],
   "source": []
  },
  {
   "cell_type": "code",
   "execution_count": null,
   "metadata": {},
   "outputs": [],
   "source": []
  },
  {
   "cell_type": "code",
   "execution_count": null,
   "metadata": {},
   "outputs": [],
   "source": []
  },
  {
   "cell_type": "code",
   "execution_count": null,
   "metadata": {},
   "outputs": [],
   "source": []
  },
  {
   "cell_type": "code",
   "execution_count": 475,
   "metadata": {},
   "outputs": [],
   "source": []
  },
  {
   "cell_type": "code",
   "execution_count": 476,
   "metadata": {},
   "outputs": [],
   "source": [
    "\n"
   ]
  },
  {
   "cell_type": "code",
   "execution_count": 477,
   "metadata": {},
   "outputs": [],
   "source": [
    "\n"
   ]
  },
  {
   "cell_type": "code",
   "execution_count": 478,
   "metadata": {},
   "outputs": [],
   "source": []
  },
  {
   "cell_type": "code",
   "execution_count": 479,
   "metadata": {},
   "outputs": [],
   "source": []
  },
  {
   "cell_type": "code",
   "execution_count": null,
   "metadata": {},
   "outputs": [],
   "source": []
  },
  {
   "cell_type": "code",
   "execution_count": 546,
   "metadata": {},
   "outputs": [],
   "source": []
  },
  {
   "cell_type": "code",
   "execution_count": 547,
   "metadata": {},
   "outputs": [],
   "source": []
  },
  {
   "cell_type": "code",
   "execution_count": null,
   "metadata": {},
   "outputs": [],
   "source": []
  },
  {
   "cell_type": "code",
   "execution_count": 613,
   "metadata": {},
   "outputs": [],
   "source": []
  },
  {
   "cell_type": "code",
   "execution_count": 614,
   "metadata": {},
   "outputs": [],
   "source": []
  },
  {
   "cell_type": "code",
   "execution_count": null,
   "metadata": {},
   "outputs": [],
   "source": []
  },
  {
   "cell_type": "code",
   "execution_count": 932,
   "metadata": {},
   "outputs": [],
   "source": []
  },
  {
   "cell_type": "code",
   "execution_count": 636,
   "metadata": {},
   "outputs": [],
   "source": []
  },
  {
   "cell_type": "code",
   "execution_count": 933,
   "metadata": {},
   "outputs": [],
   "source": []
  },
  {
   "cell_type": "code",
   "execution_count": null,
   "metadata": {},
   "outputs": [],
   "source": []
  },
  {
   "cell_type": "code",
   "execution_count": 958,
   "metadata": {},
   "outputs": [],
   "source": []
  },
  {
   "cell_type": "code",
   "execution_count": 962,
   "metadata": {},
   "outputs": [],
   "source": []
  },
  {
   "cell_type": "code",
   "execution_count": 974,
   "metadata": {},
   "outputs": [],
   "source": []
  },
  {
   "cell_type": "code",
   "execution_count": null,
   "metadata": {},
   "outputs": [],
   "source": []
  },
  {
   "cell_type": "code",
   "execution_count": null,
   "metadata": {},
   "outputs": [],
   "source": []
  },
  {
   "cell_type": "code",
   "execution_count": null,
   "metadata": {},
   "outputs": [],
   "source": []
  },
  {
   "cell_type": "code",
   "execution_count": null,
   "metadata": {},
   "outputs": [],
   "source": []
  },
  {
   "cell_type": "code",
   "execution_count": null,
   "metadata": {},
   "outputs": [],
   "source": []
  },
  {
   "cell_type": "code",
   "execution_count": 1012,
   "metadata": {},
   "outputs": [],
   "source": []
  },
  {
   "cell_type": "code",
   "execution_count": 1013,
   "metadata": {},
   "outputs": [],
   "source": [
    "\n"
   ]
  },
  {
   "cell_type": "code",
   "execution_count": 1014,
   "metadata": {},
   "outputs": [],
   "source": []
  },
  {
   "cell_type": "code",
   "execution_count": 1015,
   "metadata": {},
   "outputs": [],
   "source": []
  },
  {
   "cell_type": "code",
   "execution_count": 1016,
   "metadata": {},
   "outputs": [],
   "source": []
  },
  {
   "cell_type": "code",
   "execution_count": null,
   "metadata": {},
   "outputs": [],
   "source": []
  },
  {
   "cell_type": "code",
   "execution_count": null,
   "metadata": {},
   "outputs": [],
   "source": []
  },
  {
   "cell_type": "code",
   "execution_count": null,
   "metadata": {},
   "outputs": [],
   "source": []
  }
 ],
 "metadata": {
  "kernelspec": {
   "display_name": "Python 3",
   "language": "python",
   "name": "python3"
  },
  "language_info": {
   "codemirror_mode": {
    "name": "ipython",
    "version": 3
   },
   "file_extension": ".py",
   "mimetype": "text/x-python",
   "name": "python",
   "nbconvert_exporter": "python",
   "pygments_lexer": "ipython3",
   "version": "3.6.3"
  }
 },
 "nbformat": 4,
 "nbformat_minor": 2
}
